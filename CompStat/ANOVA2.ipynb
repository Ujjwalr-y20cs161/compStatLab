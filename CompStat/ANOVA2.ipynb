{
 "cells": [
  {
   "cell_type": "markdown",
   "metadata": {},
   "source": [
    "<style>\n",
    "    h1{\n",
    "        color:gray;\n",
    "        background:white;\n",
    "        display:flex;\n",
    "        justify-content:center;\n",
    "        height: 200px;  \n",
    "        align-items:center;\n",
    "    }\n",
    "</style>\n",
    "<h1>ANOVA TWO WAY</h1>"
   ]
  },
  {
   "cell_type": "code",
   "execution_count": 31,
   "metadata": {},
   "outputs": [],
   "source": [
    "import numpy as np\n",
    "import pandas as pd\n",
    "import scipy.stats as ss"
   ]
  },
  {
   "cell_type": "code",
   "execution_count": 32,
   "metadata": {},
   "outputs": [],
   "source": [
    "K = int(input('Enter Number of treatments:'))\n",
    "F = []\n",
    "for i in range(K):\n",
    "    F.append(list(map(int,input(f'treatment{i+1}:').split())))"
   ]
  },
  {
   "cell_type": "code",
   "execution_count": 41,
   "metadata": {},
   "outputs": [
    {
     "name": "stdout",
     "output_type": "stream",
     "text": [
      "[[45 43 51]\n",
      " [47 46 52]\n",
      " [48 50 55]\n",
      " [42 37 49]]\n"
     ]
    }
   ],
   "source": [
    "F = np.array(F)\n",
    "los = 0.05\n",
    "print(F)"
   ]
  },
  {
   "cell_type": "code",
   "execution_count": 62,
   "metadata": {},
   "outputs": [
    {
     "name": "stdout",
     "output_type": "stream",
     "text": [
      "    0   1   2    T    T^2\n",
      "0  45  43  51  139  19321\n",
      "1  47  46  52  145  21025\n",
      "2  48  50  55  153  23409\n",
      "3  42  37  49  128  16384\n"
     ]
    },
    {
     "data": {
      "text/plain": [
       "[array([139, 145, 153, 128]),\n",
       " array([182, 176, 207]),\n",
       " 565,\n",
       " array([19321, 21025, 23409, 16384], dtype=int32),\n",
       " array([33124, 30976, 42849], dtype=int32),\n",
       " 80139,\n",
       " 106949]"
      ]
     },
     "execution_count": 62,
     "metadata": {},
     "output_type": "execute_result"
    }
   ],
   "source": [
    "\n",
    "T = np.sum(F,axis=1)\n",
    "B = np.sum(F,axis=0)\n",
    "G = sum(T)\n",
    "T2 = np.square(T)\n",
    "B2 = np.square(B)\n",
    "ST2 = sum(T2)\n",
    "SB2 = sum(B2)\n",
    "Finv = F.transpose()\n",
    "inp = pd.DataFrame(F)\n",
    "inp['T'] = T\n",
    "inp['T^2'] = T2\n",
    "print(inp)\n",
    "res = [T,B,G,T2,B2,ST2,SB2]\n",
    "res"
   ]
  },
  {
   "cell_type": "code",
   "execution_count": 43,
   "metadata": {},
   "outputs": [
    {
     "data": {
      "text/plain": [
       "[[4, 3],\n",
       " 26867,\n",
       " 26602.083333333332,\n",
       " 264.9166666666679,\n",
       " 110.91666666666788,\n",
       " 135.16666666666788,\n",
       " 18.83333333333212]"
      ]
     },
     "execution_count": 43,
     "metadata": {},
     "output_type": "execute_result"
    }
   ],
   "source": [
    "deg_fre = [k,h] = [len(res[0]),len(res[1])]\n",
    "RSS = np.sum(np.square(F.flatten()))\n",
    "CF = G**2/(k*h)\n",
    "SST = RSS - CF\n",
    "SSTR = ST2/h - CF\n",
    "SSB = SB2/k - CF\n",
    "SSE = SST - SSTR - SSB\n",
    "\n",
    "[deg_fre,RSS,CF,SST,SSTR,SSB,SSE]"
   ]
  },
  {
   "cell_type": "code",
   "execution_count": 44,
   "metadata": {},
   "outputs": [
    {
     "name": "stdout",
     "output_type": "stream",
     "text": [
      "The ANOVA Two way table :: \n"
     ]
    },
    {
     "data": {
      "text/html": [
       "<div>\n",
       "<style scoped>\n",
       "    .dataframe tbody tr th:only-of-type {\n",
       "        vertical-align: middle;\n",
       "    }\n",
       "\n",
       "    .dataframe tbody tr th {\n",
       "        vertical-align: top;\n",
       "    }\n",
       "\n",
       "    .dataframe thead th {\n",
       "        text-align: right;\n",
       "    }\n",
       "</style>\n",
       "<table border=\"1\" class=\"dataframe\">\n",
       "  <thead>\n",
       "    <tr style=\"text-align: right;\">\n",
       "      <th></th>\n",
       "      <th>Source of Variance</th>\n",
       "      <th>Sum of Sqauares</th>\n",
       "      <th>Degree of Freedom</th>\n",
       "      <th>Mean sum of Squares</th>\n",
       "      <th>Variance Ratio</th>\n",
       "    </tr>\n",
       "  </thead>\n",
       "  <tbody>\n",
       "    <tr>\n",
       "      <th>0</th>\n",
       "      <td>Treatments</td>\n",
       "      <td>110.916667</td>\n",
       "      <td>3</td>\n",
       "      <td>36.972222</td>\n",
       "      <td>11.778761</td>\n",
       "    </tr>\n",
       "    <tr>\n",
       "      <th>1</th>\n",
       "      <td>Blocks</td>\n",
       "      <td>135.166667</td>\n",
       "      <td>2</td>\n",
       "      <td>67.583333</td>\n",
       "      <td>21.530973</td>\n",
       "    </tr>\n",
       "    <tr>\n",
       "      <th>2</th>\n",
       "      <td>Errors</td>\n",
       "      <td>18.833333</td>\n",
       "      <td>6</td>\n",
       "      <td>3.138889</td>\n",
       "      <td>1.000000</td>\n",
       "    </tr>\n",
       "  </tbody>\n",
       "</table>\n",
       "</div>"
      ],
      "text/plain": [
       "  Source of Variance  Sum of Sqauares  Degree of Freedom  Mean sum of Squares  \\\n",
       "0         Treatments       110.916667                  3            36.972222   \n",
       "1             Blocks       135.166667                  2            67.583333   \n",
       "2             Errors        18.833333                  6             3.138889   \n",
       "\n",
       "   Variance Ratio  \n",
       "0       11.778761  \n",
       "1       21.530973  \n",
       "2        1.000000  "
      ]
     },
     "execution_count": 44,
     "metadata": {},
     "output_type": "execute_result"
    }
   ],
   "source": [
    "vals = {\n",
    "    'Source of Variance':['Treatments','Blocks','Errors'],\n",
    "    'Sum of Sqauares':[SSTR,SSB,SSE],\n",
    "    'Degree of Freedom':[deg_fre[0]-1,deg_fre[1]-1,(deg_fre[0]-1)*(deg_fre[1]-1)]\n",
    "}\n",
    "\n",
    "df = pd.DataFrame(vals)\n",
    "df['Mean sum of Squares'] = df['Sum of Sqauares']/df['Degree of Freedom']\n",
    "df['Variance Ratio'] = df['Mean sum of Squares']/df['Mean sum of Squares'][2]\n",
    "print('The ANOVA Two way table :: ')\n",
    "df"
   ]
  },
  {
   "cell_type": "code",
   "execution_count": 45,
   "metadata": {},
   "outputs": [
    {
     "name": "stdout",
     "output_type": "stream",
     "text": [
      "Reject H0 for treatments\n",
      "Reject H0 for Blocks\n"
     ]
    }
   ],
   "source": [
    "##INFERENCE\n",
    "\n",
    "# treatment\n",
    "\n",
    "FTtab = ss.f.ppf(1-los,df['Degree of Freedom'][0],df['Degree of Freedom'][2])\n",
    "FBtab = ss.f.ppf(1-los,df['Degree of Freedom'][1],df['Degree of Freedom'][2])\n",
    "\n",
    "if FTtab>df['Variance Ratio'][0]:\n",
    "    print(\"Accept H0 for treatments\")\n",
    "else: print(\"Reject H0 for treatments\")\n",
    " \n",
    "if FBtab>df['Variance Ratio'][1]:\n",
    "    print(\"Accept H0 for Blocks\")\n",
    "else: print(\"Reject H0 for Blocks\")\n"
   ]
  }
 ],
 "metadata": {
  "kernelspec": {
   "display_name": "Python 3.9.7 ('base')",
   "language": "python",
   "name": "python3"
  },
  "language_info": {
   "codemirror_mode": {
    "name": "ipython",
    "version": 3
   },
   "file_extension": ".py",
   "mimetype": "text/x-python",
   "name": "python",
   "nbconvert_exporter": "python",
   "pygments_lexer": "ipython3",
   "version": "3.9.7"
  },
  "orig_nbformat": 4,
  "vscode": {
   "interpreter": {
    "hash": "ad2bdc8ecc057115af97d19610ffacc2b4e99fae6737bb82f5d7fb13d2f2c186"
   }
  }
 },
 "nbformat": 4,
 "nbformat_minor": 2
}
