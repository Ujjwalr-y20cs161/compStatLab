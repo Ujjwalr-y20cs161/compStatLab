{
 "cells": [
  {
   "cell_type": "code",
   "execution_count": 90,
   "metadata": {},
   "outputs": [],
   "source": [
    "# !pip install scipy"
   ]
  },
  {
   "cell_type": "markdown",
   "metadata": {},
   "source": [
    "<style>\n",
    "    h1{\n",
    "        color:cyan;\n",
    "        background:black;\n",
    "        display:flex;\n",
    "        justify-content:center;\n",
    "        height: 200px;  \n",
    "        align-items:center;\n",
    "    }\n",
    "</style>\n",
    "<h1>ANOVA ONE WAY</h1>"
   ]
  },
  {
   "cell_type": "code",
   "execution_count": 91,
   "metadata": {},
   "outputs": [],
   "source": [
    "\n",
    "##Library import\n",
    "import numpy as np\n",
    "import pandas as pd\n",
    "import scipy.stats as ss"
   ]
  },
  {
   "cell_type": "code",
   "execution_count": 92,
   "metadata": {},
   "outputs": [],
   "source": [
    "K = int(input('Number of treatments:'))\n",
    "F = []\n",
    "for i in range(K):\n",
    "    F.append(list(map(int,input(f\"Formula {i+1}:\").split())))"
   ]
  },
  {
   "cell_type": "code",
   "execution_count": 93,
   "metadata": {},
   "outputs": [
    {
     "name": "stdout",
     "output_type": "stream",
     "text": [
      "[[6, 4, 5], [13, 10, 13, 12], [7, 9, 11], [3, 6, 1, 4, 1]]\n",
      "[array([6, 4, 5]) array([13, 10, 13, 12]) array([ 7,  9, 11])\n",
      " array([3, 6, 1, 4, 1])]\n"
     ]
    }
   ],
   "source": [
    "print(F)\n",
    "F = np.array([np.array(x) for x in F],dtype=object)\n",
    "los = 0.05\n",
    "print(F)"
   ]
  },
  {
   "cell_type": "code",
   "execution_count": 94,
   "metadata": {},
   "outputs": [
    {
     "data": {
      "text/plain": [
       "[[15, 48, 27, 15], 105, [75.0, 576.0, 243.0, 45.0], 939.0]"
      ]
     },
     "execution_count": 94,
     "metadata": {},
     "output_type": "execute_result"
    }
   ],
   "source": [
    "T = [sum(x) for x in F]\n",
    "L = [x.size for x in F] \n",
    "G = sum(T)\n",
    "T2 = [i**2/x for i,x in zip(T,L)]\n",
    "ST2N =  sum(T2)\n",
    "res = [T,G,T2,ST2N]\n",
    "res"
   ]
  },
  {
   "cell_type": "code",
   "execution_count": 95,
   "metadata": {},
   "outputs": [
    {
     "data": {
      "text/plain": [
       "(973, 735.0, 238.0, 204.0, 34.0)"
      ]
     },
     "execution_count": 95,
     "metadata": {},
     "output_type": "execute_result"
    }
   ],
   "source": [
    "seq = np.hstack(F.flatten())\n",
    "N = seq.size\n",
    "RSS = sum([i**2 for i in np.hstack(F.flatten())])\n",
    "CF = res[1]**2/N\n",
    "SST = RSS - CF\n",
    "SSTR = res[-1] - CF\n",
    "SSE = SST - SSTR\n",
    "RSS,CF,SST,SSTR,SSE"
   ]
  },
  {
   "cell_type": "code",
   "execution_count": 96,
   "metadata": {},
   "outputs": [
    {
     "data": {
      "text/html": [
       "<div>\n",
       "<style scoped>\n",
       "    .dataframe tbody tr th:only-of-type {\n",
       "        vertical-align: middle;\n",
       "    }\n",
       "\n",
       "    .dataframe tbody tr th {\n",
       "        vertical-align: top;\n",
       "    }\n",
       "\n",
       "    .dataframe thead th {\n",
       "        text-align: right;\n",
       "    }\n",
       "</style>\n",
       "<table border=\"1\" class=\"dataframe\">\n",
       "  <thead>\n",
       "    <tr style=\"text-align: right;\">\n",
       "      <th></th>\n",
       "      <th>Source of Var</th>\n",
       "      <th>Sum of Squares</th>\n",
       "      <th>Degrees of Freedom</th>\n",
       "      <th>Mean sum of squares</th>\n",
       "      <th>Variance Ratio</th>\n",
       "    </tr>\n",
       "  </thead>\n",
       "  <tbody>\n",
       "    <tr>\n",
       "      <th>0</th>\n",
       "      <td>Formula</td>\n",
       "      <td>204.0</td>\n",
       "      <td>3</td>\n",
       "      <td>68.0</td>\n",
       "      <td></td>\n",
       "    </tr>\n",
       "    <tr>\n",
       "      <th>1</th>\n",
       "      <td>Error</td>\n",
       "      <td>34.0</td>\n",
       "      <td>11</td>\n",
       "      <td>3.090909</td>\n",
       "      <td>22.0</td>\n",
       "    </tr>\n",
       "    <tr>\n",
       "      <th>2</th>\n",
       "      <td>Total:</td>\n",
       "      <td>238.0</td>\n",
       "      <td>14</td>\n",
       "      <td>-</td>\n",
       "      <td></td>\n",
       "    </tr>\n",
       "  </tbody>\n",
       "</table>\n",
       "</div>"
      ],
      "text/plain": [
       "  Source of Var  Sum of Squares  Degrees of Freedom Mean sum of squares  \\\n",
       "0       Formula           204.0                   3                68.0   \n",
       "1         Error            34.0                  11            3.090909   \n",
       "2        Total:           238.0                  14                   -   \n",
       "\n",
       "  Variance Ratio  \n",
       "0                 \n",
       "1           22.0  \n",
       "2                 "
      ]
     },
     "execution_count": 96,
     "metadata": {},
     "output_type": "execute_result"
    }
   ],
   "source": [
    "\n",
    "deg_fre = [K-1,N-K,N-1]\n",
    "sos = [SSTR,SSE,SST]\n",
    "msos = [sos[0]/deg_fre[0],sos[1]/deg_fre[1],'-']\n",
    "vals = {\n",
    "    'Source of Var':['Formula','Error','Total:'],\n",
    "    'Sum of Squares':sos,\n",
    "    'Degrees of Freedom':deg_fre,\n",
    "    'Mean sum of squares':msos,\n",
    "    'Variance Ratio':['',msos[0]/msos[1],'']\n",
    "}\n",
    "\n",
    "df = pd.DataFrame(vals)\n",
    "\n",
    "df"
   ]
  },
  {
   "cell_type": "code",
   "execution_count": 97,
   "metadata": {},
   "outputs": [
    {
     "name": "stdout",
     "output_type": "stream",
     "text": [
      "Calculated F value is 22.0,Table value is 3.5874337024204936\n",
      "We Reject H0 of the Hypothesis\n"
     ]
    }
   ],
   "source": [
    "Ftab = ss.f.ppf(1-los,deg_fre[0],deg_fre[1])\n",
    "Fcal = df['Variance Ratio'][1]\n",
    "print(f'Calculated F value is {Fcal},Table value is {Ftab}')\n",
    "if Ftab>Fcal:\n",
    "    print('We accept H0')\n",
    "else: print('We Reject H0 of the Hypothesis')"
   ]
  }
 ],
 "metadata": {
  "kernelspec": {
   "display_name": "Python 3.9.7 ('base')",
   "language": "python",
   "name": "python3"
  },
  "language_info": {
   "codemirror_mode": {
    "name": "ipython",
    "version": 3
   },
   "file_extension": ".py",
   "mimetype": "text/x-python",
   "name": "python",
   "nbconvert_exporter": "python",
   "pygments_lexer": "ipython3",
   "version": "3.9.7"
  },
  "orig_nbformat": 4,
  "vscode": {
   "interpreter": {
    "hash": "ad2bdc8ecc057115af97d19610ffacc2b4e99fae6737bb82f5d7fb13d2f2c186"
   }
  }
 },
 "nbformat": 4,
 "nbformat_minor": 2
}
