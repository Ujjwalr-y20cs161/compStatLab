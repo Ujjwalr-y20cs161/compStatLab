{
 "cells": [
  {
   "cell_type": "code",
   "execution_count": 1,
   "metadata": {},
   "outputs": [
    {
     "name": "stdout",
     "output_type": "stream",
     "text": [
      "Hello world!\n"
     ]
    }
   ],
   "source": [
    "print(\"Hello world!\")"
   ]
  },
  {
   "cell_type": "markdown",
   "metadata": {},
   "source": [
    "<h1 style=\"color: white;\">Correlation</h1>"
   ]
  },
  {
   "cell_type": "code",
   "execution_count": 22,
   "metadata": {},
   "outputs": [],
   "source": [
    "import numpy as np \n",
    "import math "
   ]
  },
  {
   "cell_type": "code",
   "execution_count": 34,
   "metadata": {},
   "outputs": [],
   "source": [
    "def cov(x,y):\n",
    "    xm = sum(x)/len(x)\n",
    "    # print(f'mean of x is {xm}')\n",
    "    ym = sum(y)/len(y)\n",
    "    # print(f'mean of y is {ym}')\n",
    "    xdiff = x-xm\n",
    "    ydiff = y-ym\n",
    "    # (xdiff,ydiff)\n",
    "    xdyd = xdiff*ydiff\n",
    "    # print(xdyd)\n",
    "    sxdyd = sum(xdyd)\n",
    "    covxy = sxdyd/len(x)\n",
    "    return covxy"
   ]
  },
  {
   "cell_type": "code",
   "execution_count": 33,
   "metadata": {},
   "outputs": [],
   "source": [
    "def sig(x):\n",
    "    xm = sum(x)/len(x)\n",
    "    xsubxmsq = (x-xm)**2\n",
    "    txsub = sum(xsubxmsq)\n",
    "    sigx = math.sqrt(txsub/len(x))\n",
    "    sigy = math.sqrt(tysub/len(y))\n",
    "    return (round(sigx,4))\n",
    "\n",
    "# def sigy(y):\n",
    "#     ym = sum(y)/len(y)\n",
    "#     ysubymsq = (y-ym)**2\n",
    "#     tysub = sum(ysubymsq)\n",
    "#     sigy = math.sqrt(tysub/len(y))\n",
    "#     return round(sigy,4)"
   ]
  },
  {
   "cell_type": "code",
   "execution_count": 39,
   "metadata": {},
   "outputs": [],
   "source": [
    "def corrcoeff(x,y):\n",
    "    return round(cov(x,y)/(sig(x)*sig(y)),5)"
   ]
  },
  {
   "cell_type": "code",
   "execution_count": 8,
   "metadata": {},
   "outputs": [],
   "source": [
    "\n",
    "x =  np.array(list(map(int,input(\"Enter x:\").split())))\n",
    "y =  np.array(list(map(int,input(\"Enter y:\").split())))\n",
    "\n"
   ]
  },
  {
   "cell_type": "code",
   "execution_count": 9,
   "metadata": {},
   "outputs": [
    {
     "name": "stdout",
     "output_type": "stream",
     "text": [
      "[3 7 4 2 0 4 1 2] [11 18  9  4  7  6  3  8]\n"
     ]
    }
   ],
   "source": [
    "print(x,y)"
   ]
  },
  {
   "cell_type": "code",
   "execution_count": 40,
   "metadata": {},
   "outputs": [
    {
     "data": {
      "text/plain": [
       "(7.03125, 2.0272, 4.4088, 0.78671)"
      ]
     },
     "execution_count": 40,
     "metadata": {},
     "output_type": "execute_result"
    }
   ],
   "source": [
    "cov(x,y),sig(x),sig(y),corrcoeff(x,y)"
   ]
  }
 ],
 "metadata": {
  "kernelspec": {
   "display_name": "Python 3.9.7 ('base')",
   "language": "python",
   "name": "python3"
  },
  "language_info": {
   "codemirror_mode": {
    "name": "ipython",
    "version": 3
   },
   "file_extension": ".py",
   "mimetype": "text/x-python",
   "name": "python",
   "nbconvert_exporter": "python",
   "pygments_lexer": "ipython3",
   "version": "3.9.7"
  },
  "orig_nbformat": 4,
  "vscode": {
   "interpreter": {
    "hash": "ad2bdc8ecc057115af97d19610ffacc2b4e99fae6737bb82f5d7fb13d2f2c186"
   }
  }
 },
 "nbformat": 4,
 "nbformat_minor": 2
}
