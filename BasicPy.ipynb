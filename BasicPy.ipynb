{
  "nbformat": 4,
  "nbformat_minor": 0,
  "metadata": {
    "colab": {
      "name": "Untitled0.ipynb",
      "provenance": [],
      "collapsed_sections": [],
      "authorship_tag": "ABX9TyOyPKuIbEWwe60zlIm/z0MF",
      "include_colab_link": true
    },
    "kernelspec": {
      "name": "python3",
      "display_name": "Python 3"
    },
    "language_info": {
      "name": "python"
    }
  },
  "cells": [
    {
      "cell_type": "markdown",
      "metadata": {
        "id": "view-in-github",
        "colab_type": "text"
      },
      "source": [
        "<a href=\"https://colab.research.google.com/github/Ujjwalr-y20cs161/compStatLab/blob/main/BasicPy.ipynb\" target=\"_parent\"><img src=\"https://colab.research.google.com/assets/colab-badge.svg\" alt=\"Open In Colab\"/></a>"
      ]
    },
    {
      "cell_type": "code",
      "execution_count": 1,
      "metadata": {
        "colab": {
          "base_uri": "https://localhost:8080/"
        },
        "id": "SEbZ09ILQSAF",
        "outputId": "cf8c7483-2b9a-44be-e5fe-f94ad4c39a8d"
      },
      "outputs": [
        {
          "output_type": "stream",
          "name": "stdout",
          "text": [
            "Hello World\n"
          ]
        }
      ],
      "source": [
        "print(\"Hello World\")"
      ]
    },
    {
      "cell_type": "markdown",
      "source": [
        "Write a program in Python for, In array 1-100 numbers are stored, one number is missing how do you find it."
      ],
      "metadata": {
        "id": "n3yHr2X8RgOk"
      }
    },
    {
      "cell_type": "code",
      "source": [
        "#generating function of the list\n",
        "\n",
        "l =[]\n",
        "for i in range(1,100):\n",
        "  l.append(i)\n",
        "\n",
        "l.remove(21)\n",
        "\n",
        "print(l)"
      ],
      "metadata": {
        "colab": {
          "base_uri": "https://localhost:8080/"
        },
        "id": "uQn5McHQRctY",
        "outputId": "2e12e2b1-46c2-4f17-d96c-fc452627c0d4"
      },
      "execution_count": 2,
      "outputs": [
        {
          "output_type": "stream",
          "name": "stdout",
          "text": [
            "[1, 2, 3, 4, 5, 6, 7, 8, 9, 10, 11, 12, 13, 14, 15, 16, 17, 18, 19, 20, 22, 23, 24, 25, 26, 27, 28, 29, 30, 31, 32, 33, 34, 35, 36, 37, 38, 39, 40, 41, 42, 43, 44, 45, 46, 47, 48, 49, 50, 51, 52, 53, 54, 55, 56, 57, 58, 59, 60, 61, 62, 63, 64, 65, 66, 67, 68, 69, 70, 71, 72, 73, 74, 75, 76, 77, 78, 79, 80, 81, 82, 83, 84, 85, 86, 87, 88, 89, 90, 91, 92, 93, 94, 95, 96, 97, 98, 99]\n"
          ]
        }
      ]
    },
    {
      "cell_type": "code",
      "source": [
        "#set difference\n",
        "set1 = set(range(l[0],l[-1]))\n",
        "set2 = set(l)\n",
        "\n",
        "print(set1-set2)"
      ],
      "metadata": {
        "colab": {
          "base_uri": "https://localhost:8080/"
        },
        "id": "50RJc-tMSZgx",
        "outputId": "f63495b4-358c-4ca2-9675-d8d140ee908c"
      },
      "execution_count": 7,
      "outputs": [
        {
          "output_type": "stream",
          "name": "stdout",
          "text": [
            "{21}\n"
          ]
        }
      ]
    },
    {
      "cell_type": "markdown",
      "source": [
        "Write a program in Python for, In a array 1-100 multiple numbers are duplicates, how do you find it."
      ],
      "metadata": {
        "id": "CdNIS1lpURCP"
      }
    },
    {
      "cell_type": "code",
      "source": [
        "#Generating a list\n",
        "import random\n",
        "def Gen1(mx,ran = 100):\n",
        "  l1 = [random.randint(1,ran) for x in range(1,mx)]\n",
        "  # l1.sort()\n",
        "  return l1"
      ],
      "metadata": {
        "id": "QJYZzIxYUYHO"
      },
      "execution_count": 43,
      "outputs": []
    },
    {
      "cell_type": "code",
      "source": [
        "s1=set(l1)\n",
        "l1 = list(s1)\n",
        "print(l1,len(l1),sep='\\n')"
      ],
      "metadata": {
        "colab": {
          "base_uri": "https://localhost:8080/"
        },
        "id": "y8SC9uEvVssR",
        "outputId": "6cceb006-d2d7-4606-bb18-47c9f5b9614c"
      },
      "execution_count": 20,
      "outputs": [
        {
          "output_type": "stream",
          "name": "stdout",
          "text": [
            "[1, 2, 3, 4, 8, 10, 11, 13, 15, 16, 19, 20, 23, 24, 25, 27, 28, 29, 32, 33, 34, 36, 37, 38, 39, 40, 41, 42, 43, 44, 45, 46, 49, 52, 53, 55, 58, 59, 60, 62, 64, 65, 66, 67, 68, 69, 70, 71, 72, 73, 74, 75, 76, 77, 78, 80, 81, 82, 83, 85, 86, 89, 93, 99]\n",
            "64\n"
          ]
        }
      ]
    },
    {
      "cell_type": "markdown",
      "source": [
        "Write a program in Python for, How to find all pairs in array of integers whose sum is equal to given number.\n"
      ],
      "metadata": {
        "id": "N6VseAl8WWug"
      }
    },
    {
      "cell_type": "code",
      "source": [
        "arr = [1, 5, 7, -1]\n",
        "sum = 6\n",
        "l=[]\n",
        "for i in range(0,len(arr)):\n",
        "  for j in range(i+1,len(arr)):\n",
        "    if arr[i]+arr[j] == sum:\n",
        "     l.append((arr[i],arr[j]))\n",
        "\n",
        "print(l)"
      ],
      "metadata": {
        "colab": {
          "base_uri": "https://localhost:8080/"
        },
        "id": "1qHlcQ5gWWIo",
        "outputId": "35e9f570-2d89-4dab-9f17-689dcb461568"
      },
      "execution_count": 29,
      "outputs": [
        {
          "output_type": "stream",
          "name": "stdout",
          "text": [
            "[(1, 5), (7, -1)]\n"
          ]
        }
      ]
    },
    {
      "cell_type": "markdown",
      "source": [
        "Write a program in Python for, How to compare two array is equal in size or not."
      ],
      "metadata": {
        "id": "tqHEbdyBZKl4"
      }
    },
    {
      "cell_type": "code",
      "source": [
        "l1 = Gen1(10)\n",
        "l2 = Gen1(10)\n",
        "# l2 = Gen1(13)\n",
        "if len(l1)!= len(l2):\n",
        "  print('Length of the lists are different')\n",
        "  print('Difference of the lengths:',len(l1),len(l2),':::',len(l1)-len(l2))\n",
        "else:\n",
        "  print(\"The lists are of same length!\")"
      ],
      "metadata": {
        "colab": {
          "base_uri": "https://localhost:8080/"
        },
        "id": "O77p0hCKZQ7w",
        "outputId": "5b7bf9a5-a82f-4b3f-ca34-307f3568500d"
      },
      "execution_count": 36,
      "outputs": [
        {
          "output_type": "stream",
          "name": "stdout",
          "text": [
            "The lists are of same length!\n"
          ]
        }
      ]
    },
    {
      "cell_type": "markdown",
      "source": [
        "Write a program in Python to find largest and smallest number in array."
      ],
      "metadata": {
        "id": "hVrRho5Qa94a"
      }
    },
    {
      "cell_type": "code",
      "source": [
        "li = Gen1(15)\n",
        "print(li)\n",
        "li.sort()\n",
        "print('The smallest and largest of the list is::',li[0],li[-1])"
      ],
      "metadata": {
        "colab": {
          "base_uri": "https://localhost:8080/"
        },
        "id": "CbUYSArBbCCj",
        "outputId": "28c4b7b3-ba38-4fe0-bc3b-ff6e90f49ed2"
      },
      "execution_count": 41,
      "outputs": [
        {
          "output_type": "stream",
          "name": "stdout",
          "text": [
            "[29, 99, 84, 72, 32, 39, 36, 66, 67, 14, 96, 28, 27, 32]\n",
            "The smallest and largest of the list is:: 14 99\n"
          ]
        }
      ]
    },
    {
      "cell_type": "markdown",
      "source": [
        "Write a program in Python to find second highest number in an integer array."
      ],
      "metadata": {
        "id": "Hfl6JFf3bh6k"
      }
    },
    {
      "cell_type": "code",
      "source": [
        "li = Gen1(15)\n",
        "print(li)\n",
        "li.sort()\n",
        "print('the second largest is:',li[-2])"
      ],
      "metadata": {
        "colab": {
          "base_uri": "https://localhost:8080/"
        },
        "id": "SuU62lhTbkca",
        "outputId": "3a039937-ba92-4980-f6d3-967f9d56a902"
      },
      "execution_count": 42,
      "outputs": [
        {
          "output_type": "stream",
          "name": "stdout",
          "text": [
            "[3, 21, 36, 41, 96, 57, 79, 23, 18, 33, 68, 99, 36, 86]\n",
            "the second largest is: 96\n"
          ]
        }
      ]
    },
    {
      "cell_type": "markdown",
      "source": [
        "Write a program in Python to remove duplicate elements form array."
      ],
      "metadata": {
        "id": "QHPVsXX-by5y"
      }
    },
    {
      "cell_type": "code",
      "source": [
        "lo = Gen1(20,12)\n",
        "print(lo)\n",
        "#list->set->list::\n",
        "slo = set(lo)\n",
        "ol = list(slo)\n",
        "print(ol)"
      ],
      "metadata": {
        "colab": {
          "base_uri": "https://localhost:8080/"
        },
        "id": "rvfHQmhccDd7",
        "outputId": "3cff60b4-7628-475a-8d6f-fca3582151af"
      },
      "execution_count": 49,
      "outputs": [
        {
          "output_type": "stream",
          "name": "stdout",
          "text": [
            "[1, 8, 3, 11, 2, 6, 11, 10, 3, 12, 4, 10, 10, 8, 2, 1, 10, 9, 4]\n",
            "[1, 2, 3, 4, 6, 8, 9, 10, 11, 12]\n"
          ]
        }
      ]
    },
    {
      "cell_type": "markdown",
      "source": [
        "Python program to print array in reverse Order."
      ],
      "metadata": {
        "id": "U46FwEKociu6"
      }
    },
    {
      "cell_type": "code",
      "source": [
        "lrev = Gen1(15,1000)\n",
        "print('Given List:',lrev,'\\nReverse of the given list:',lrev[::-1])"
      ],
      "metadata": {
        "colab": {
          "base_uri": "https://localhost:8080/"
        },
        "id": "87Re0pmgcmSj",
        "outputId": "527c9124-6449-4dc4-8116-3a2b1d8cfe00"
      },
      "execution_count": 50,
      "outputs": [
        {
          "output_type": "stream",
          "name": "stdout",
          "text": [
            "Given List: [603, 955, 188, 16, 283, 844, 435, 95, 691, 402, 179, 883, 860, 79] \n",
            "Reverse of the given list: [79, 860, 883, 179, 402, 691, 95, 435, 844, 283, 16, 188, 955, 603]\n"
          ]
        }
      ]
    },
    {
      "cell_type": "markdown",
      "source": [
        "# **Strings**\n",
        "Q1). Python program to remove given character from String.\n",
        "\n",
        "Q2). Python Program to count occurrence of a given characters in string.\n",
        "\n",
        "Q3). Python program to check a String is palindrome or not.\n",
        "\n",
        "Q4). Python program to check given character is vowel or consonant.\n",
        "\n",
        "Q5). Python program to count Occurrence Of Vowels & Consonants in a       String.\n"
      ],
      "metadata": {
        "id": "ZDDVbq6TdFEq"
      }
    },
    {
      "cell_type": "code",
      "source": [
        "st = \"Ujjwal R Sanagapati\"\n",
        "print(st)\n",
        "stnw = st.replace('a','')\n",
        "print(stnw)"
      ],
      "metadata": {
        "colab": {
          "base_uri": "https://localhost:8080/"
        },
        "id": "AN2QHd7Wdgt7",
        "outputId": "6133e90e-7809-429e-c4e6-931d827e8999"
      },
      "execution_count": 53,
      "outputs": [
        {
          "output_type": "stream",
          "name": "stdout",
          "text": [
            "Ujjwal R Sanagapati\n",
            "Ujjwl R Sngpti\n"
          ]
        }
      ]
    },
    {
      "cell_type": "code",
      "source": [
        "s = dict()\n",
        "st = 'ujjwal rajaswamy sangapati'\n",
        "for i in range(0,len(st)):\n",
        "  if st[i] not in s:\n",
        "    s[st[i]] = 1\n",
        "  else:\n",
        "    s[st[i]] += 1\n",
        "\n",
        "for i,j in s.items():\n",
        "  print(f'The letter {i} has {j} occurences')"
      ],
      "metadata": {
        "colab": {
          "base_uri": "https://localhost:8080/"
        },
        "id": "3m4mEzlmeEFg",
        "outputId": "9a54a5b6-e2e3-43d5-e1fa-98e6a52693ad"
      },
      "execution_count": 55,
      "outputs": [
        {
          "output_type": "stream",
          "name": "stdout",
          "text": [
            "The letter u has 1 occurences\n",
            "The letter j has 3 occurences\n",
            "The letter w has 2 occurences\n",
            "The letter a has 7 occurences\n",
            "The letter l has 1 occurences\n",
            "The letter   has 2 occurences\n",
            "The letter r has 1 occurences\n",
            "The letter s has 2 occurences\n",
            "The letter m has 1 occurences\n",
            "The letter y has 1 occurences\n",
            "The letter n has 1 occurences\n",
            "The letter g has 1 occurences\n",
            "The letter p has 1 occurences\n",
            "The letter t has 1 occurences\n",
            "The letter i has 1 occurences\n"
          ]
        }
      ]
    },
    {
      "cell_type": "code",
      "source": [
        "# stng = 'Ada Madam ada'\n",
        "stng = input(\"Enter the string:\")\n",
        "strng = stng.lower()\n",
        "\n",
        "if(strng == strng[::-1]):\n",
        "  print(f\"{stng} is a palindrome\")\n",
        "else:\n",
        "  print(f\"{stng} is not a palindrome\")"
      ],
      "metadata": {
        "colab": {
          "base_uri": "https://localhost:8080/"
        },
        "id": "q1pbwUyVgAtd",
        "outputId": "2b14b6d0-395d-4959-ce0a-1b6e16bf4927"
      },
      "execution_count": 58,
      "outputs": [
        {
          "output_type": "stream",
          "name": "stdout",
          "text": [
            "Enter the string:Ujju\n",
            "Ujju is a palindrome\n"
          ]
        }
      ]
    },
    {
      "cell_type": "code",
      "source": [
        "vowels = 'aeiou'\n",
        "consonants = 'bcdfghjklmnpqrstvwxyz'"
      ],
      "metadata": {
        "colab": {
          "base_uri": "https://localhost:8080/"
        },
        "id": "RfETBDpLhDwc",
        "outputId": "36e0f013-3977-4257-fe5a-06e452d51c7c"
      },
      "execution_count": 59,
      "outputs": [
        {
          "output_type": "execute_result",
          "data": {
            "text/plain": [
              "26"
            ]
          },
          "metadata": {},
          "execution_count": 59
        }
      ]
    },
    {
      "cell_type": "code",
      "source": [
        "char = input(\"Enter a character:\")\n",
        "chr = char[0].lower()\n",
        "\n",
        "if chr in vowels:\n",
        "  print(f'{char} is a Vowel')\n",
        "elif chr in consonants:\n",
        "  print(f'{char} is a consonant')\n",
        "else:\n",
        "  print(f'{char} is not a alphabet')"
      ],
      "metadata": {
        "colab": {
          "base_uri": "https://localhost:8080/"
        },
        "id": "zP8bDFc6hrjK",
        "outputId": "a0cf710a-0a35-4572-b29e-8e08d9f0a1bf"
      },
      "execution_count": 64,
      "outputs": [
        {
          "output_type": "stream",
          "name": "stdout",
          "text": [
            "Enter a character:U\n",
            "U is a Vowel\n"
          ]
        }
      ]
    },
    {
      "cell_type": "code",
      "source": [
        "senten = input(\"Enter the sentence: \")\n",
        "sent = senten.lower()\n",
        "\n",
        "s = {'Vowels':0,'Consonants':0}\n",
        "\n",
        "for i in sent:\n",
        "  if i in vowels:\n",
        "    s['Vowels']+=1\n",
        "  elif i in consonants:\n",
        "    s['Consonants']+=1\n",
        "\n",
        "print(f\"{senten} contains {s['Vowels']} Vowels and {s['Consonants']} Consonants\")"
      ],
      "metadata": {
        "colab": {
          "base_uri": "https://localhost:8080/"
        },
        "id": "XUjmE4L8iyGK",
        "outputId": "67230e8e-7a0b-463d-e2ca-278a2ef737d8"
      },
      "execution_count": 65,
      "outputs": [
        {
          "output_type": "stream",
          "name": "stdout",
          "text": [
            "Enter the sentence:Ujjwal R Sanagapati\n",
            "Ujjwal R Sanagapati contains 7 Vowels and 10 Consonants\n"
          ]
        }
      ]
    },
    {
      "cell_type": "markdown",
      "source": [
        " 1. Python program to find tuples which have all elements divisible by K from a list of tuples\n",
        "\n",
        "Input : test_list = [(6, 24, 12), (60, 12, 6), (12, 18, 21)], K = 6\n",
        "\n",
        "\n",
        "Output : [(6, 24, 12), (60, 12, 6)] \n",
        "\n",
        "Explanation : Both tuples have all elements multiple of 6.\n",
        "\n",
        "Input : test_list = [(6, 24, 12), (60, 10, 5), (12, 18, 21)], K = 5 \n",
        "\n",
        "Output : [(60, 10, 5)] \n",
        "\n",
        "Explanation : Multiple of 5 tuples extracted. \n"
      ],
      "metadata": {
        "id": "r8CU_DqTl9vJ"
      }
    },
    {
      "cell_type": "code",
      "source": [
        "l = [(6, 24, 12), (60, 12, 6), (12, 18, 21)]\n",
        "k = 6\n",
        "res =[]\n",
        "for i in l:\n",
        "  le = len(i)\n",
        "  K =[k]*le\n",
        "  K = tuple(K)\n",
        "  zero = [0]*le\n",
        "  zero = tuple(zero)\n",
        "  print(zero,K,i)\n",
        "  if tuple(ele1 % ele2 for ele1, ele2 in zip(i,K)))\n",
        "    # res.append(i)\n",
        "# print(res)"
      ],
      "metadata": {
        "colab": {
          "base_uri": "https://localhost:8080/"
        },
        "id": "7rc_3jevl9C5",
        "outputId": "17ff1605-b967-454c-c5a9-a2620586c41a"
      },
      "execution_count": 87,
      "outputs": [
        {
          "output_type": "stream",
          "name": "stdout",
          "text": [
            "(0, 0, 0) (6, 6, 6) (6, 24, 12)\n",
            "(0, 0, 0)\n",
            "(0, 0, 0) (6, 6, 6) (60, 12, 6)\n",
            "(0, 0, 0)\n",
            "(0, 0, 0) (6, 6, 6) (12, 18, 21)\n",
            "(0, 0, 3)\n"
          ]
        }
      ]
    }
  ]
}